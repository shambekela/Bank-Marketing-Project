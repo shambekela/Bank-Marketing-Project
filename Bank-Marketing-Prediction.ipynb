{
<<<<<<< HEAD
 "cells": [
  {
   "cell_type": "code",
   "execution_count": 3,
   "metadata": {},
   "outputs": [],
   "source": [
    "# import all the relevant libraries\n",
    "import pandas as pd # data manipulation package\n",
    "import numpy as np # linear algebra package\n",
    "\n",
    "import warnings\n",
    "warnings.filterwarnings('ignore')"
   ]
  },
  {
   "cell_type": "code",
   "execution_count": null,
   "metadata": {},
   "outputs": [],
   "source": []
  }
 ],
 "metadata": {
  "kernelspec": {
   "display_name": "Founder",
   "language": "python",
   "name": "venv"
=======
  "nbformat": 4,
  "nbformat_minor": 0,
  "metadata": {
    "kernelspec": {
      "display_name": "Founder",
      "language": "python",
      "name": "venv"
    },
    "language_info": {
      "codemirror_mode": {
        "name": "ipython",
        "version": 3
      },
      "file_extension": ".py",
      "mimetype": "text/x-python",
      "name": "python",
      "nbconvert_exporter": "python",
      "pygments_lexer": "ipython3",
      "version": "3.7.3"
    },
    "colab": {
      "name": "Bank-Marketing-Prediction.ipynb",
      "provenance": []
    }
>>>>>>> 75496578faa6ead3ca27c8f7ee72f00c5e4c5235
  },
  "cells": [
    {
      "cell_type": "code",
      "metadata": {
        "id": "z9x7MFLLucXb",
        "colab_type": "code",
        "colab": {}
      },
      "source": [
        ""
      ],
      "execution_count": 0,
      "outputs": []
    }
  ]
}